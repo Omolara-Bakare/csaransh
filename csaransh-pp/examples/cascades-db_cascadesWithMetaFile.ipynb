{
 "cells": [
  {
   "cell_type": "code",
   "execution_count": 14,
   "metadata": {},
   "outputs": [
    {
     "name": "stdout",
     "output_type": "stream",
     "text": [
      "Library not found, run cmake and specify the correct build directory & lib file (so / dlib / dlib) above.\n"
     ]
    }
   ],
   "source": [
    "import sys\n",
    "import os\n",
    "import seaborn as sns\n",
    "from pandas import DataFrame\n",
    "pathToCsaranshPP = \"..\"\n",
    "sys.path.append(pathToCsaranshPP)\n",
    "from csaranshpp import getDefaultConfig, writeResultsToJSON\n",
    "buildDir = os.path.join(pathToCsaranshPP, \"_build\")\n",
    "libName = os.path.join(buildDir, \"libcsaransh-pp_shared.so\")\n",
    "if (not os.path.exists(buildDir) or not os.path.exists(libName)):\n",
    "    print(\"Library not found, run cmake and specify the correct build directory & lib file (so / dlib / dlib) above.\")"
   ]
  },
  {
   "cell_type": "code",
   "execution_count": 5,
   "metadata": {},
   "outputs": [
    {
     "name": "stdout",
     "output_type": "stream",
     "text": [
      "Total meta files satisfying the query:  3\n",
      "3 satisfy the query.\n",
      "Directory ../data/cascadesdb-dl/0a8-w-2 already exists. Continuing without download & unzip.\n",
      "Directory ../data/cascadesdb-dl/016-T300K_2keV_data already exists. Continuing without download & unzip.\n",
      "Directory ../data/cascadesdb-dl/01c-T1025K_2keV_data already exists. Continuing without download & unzip.\n",
      "10 xyz files corresponding to meta file ../data/cascadesdb-dl/168.xml\n",
      "processing 1: ../data/cascadesdb-dl/0a8-w-2/md.movie-2-5.xyz\n"
     ]
    },
    {
     "ename": "OSError",
     "evalue": "../_build/libcsaransh-pp_shared.so: cannot open shared object file: No such file or directory",
     "output_type": "error",
     "traceback": [
      "\u001b[0;31m---------------------------------------------------------------------------\u001b[0m",
      "\u001b[0;31mOSError\u001b[0m                                   Traceback (most recent call last)",
      "\u001b[0;32m<ipython-input-5-1565bf8783a5>\u001b[0m in \u001b[0;36m<module>\u001b[0;34m\u001b[0m\n\u001b[1;32m      6\u001b[0m \u001b[0mconfig\u001b[0m\u001b[0;34m[\u001b[0m\u001b[0;34m'csaranshLib'\u001b[0m\u001b[0;34m]\u001b[0m \u001b[0;34m=\u001b[0m \u001b[0mos\u001b[0m\u001b[0;34m.\u001b[0m\u001b[0mpath\u001b[0m\u001b[0;34m.\u001b[0m\u001b[0mjoin\u001b[0m\u001b[0;34m(\u001b[0m\u001b[0mbuildDir\u001b[0m\u001b[0;34m,\u001b[0m \u001b[0;34m\"libcsaransh-pp_shared.so\"\u001b[0m\u001b[0;34m)\u001b[0m \u001b[0;31m# path to csaransh library\u001b[0m\u001b[0;34m\u001b[0m\u001b[0;34m\u001b[0m\u001b[0m\n\u001b[1;32m      7\u001b[0m \u001b[0;31m# energy in keV and temperature in Kelvin, other options like author etc. can be selected check last cell for more details\u001b[0m\u001b[0;34m\u001b[0m\u001b[0;34m\u001b[0m\u001b[0;34m\u001b[0m\u001b[0m\n\u001b[0;32m----> 8\u001b[0;31m \u001b[0misSuccess\u001b[0m\u001b[0;34m,\u001b[0m \u001b[0mcascades\u001b[0m \u001b[0;34m=\u001b[0m \u001b[0mqueryCdbToProcess\u001b[0m\u001b[0;34m(\u001b[0m\u001b[0mdataDir\u001b[0m\u001b[0;34m,\u001b[0m \u001b[0mconfig\u001b[0m\u001b[0;34m,\u001b[0m \u001b[0mmaterial\u001b[0m\u001b[0;34m=\u001b[0m\u001b[0;34m\"W\"\u001b[0m\u001b[0;34m,\u001b[0m \u001b[0menergyRange\u001b[0m\u001b[0;34m=\u001b[0m\u001b[0;34m[\u001b[0m\u001b[0;36m2\u001b[0m\u001b[0;34m,\u001b[0m \u001b[0;36m2\u001b[0m\u001b[0;34m]\u001b[0m\u001b[0;34m,\u001b[0m \u001b[0mtempRange\u001b[0m\u001b[0;34m=\u001b[0m\u001b[0;34m[\u001b[0m\u001b[0;34m\"\"\u001b[0m\u001b[0;34m,\u001b[0m \u001b[0;36m1500\u001b[0m\u001b[0;34m]\u001b[0m\u001b[0;34m)\u001b[0m\u001b[0;34m\u001b[0m\u001b[0;34m\u001b[0m\u001b[0m\n\u001b[0m\u001b[1;32m      9\u001b[0m \u001b[0mwriteResultsToJSON\u001b[0m\u001b[0;34m(\u001b[0m\u001b[0mcascades\u001b[0m\u001b[0;34m,\u001b[0m \u001b[0mconfig\u001b[0m\u001b[0;34m)\u001b[0m \u001b[0;31m# writes the json file config['outputJSONFilePath']. Can be loaded again with json.load()\u001b[0m\u001b[0;34m\u001b[0m\u001b[0;34m\u001b[0m\u001b[0m\n",
      "\u001b[0;32m~/codes/iaea/csaransh/csaransh-master/csaransh-pp/csaranshpp.py\u001b[0m in \u001b[0;36mqueryCdbToProcess\u001b[0;34m(baseDirPathToDownload, config, idStartIndex, onlyProcessTop, author, doi, material, tempRange, energyRange, archiveName, prefix, suffix, excludePrefix, excludeSuffix)\u001b[0m\n\u001b[1;32m    704\u001b[0m     \u001b[0;32mfor\u001b[0m \u001b[0mmetaFilePath\u001b[0m\u001b[0;34m,\u001b[0m \u001b[0mxyzDir\u001b[0m \u001b[0;32min\u001b[0m \u001b[0mzip\u001b[0m\u001b[0;34m(\u001b[0m\u001b[0mmetaFilePaths\u001b[0m\u001b[0;34m,\u001b[0m \u001b[0mxyzDirs\u001b[0m\u001b[0;34m)\u001b[0m\u001b[0;34m:\u001b[0m\u001b[0;34m\u001b[0m\u001b[0;34m\u001b[0m\u001b[0m\n\u001b[1;32m    705\u001b[0m         isSuccess, curRes = processXyzFilesInDirGivenMetaFile(\n\u001b[0;32m--> 706\u001b[0;31m             metaFilePath, xyzDir, config, len(res) + idStartIndex, onlyProcessTop, prefix, suffix, excludePrefix, excludeSuffix)\n\u001b[0m\u001b[1;32m    707\u001b[0m         \u001b[0;32mif\u001b[0m \u001b[0;34m(\u001b[0m\u001b[0misSuccess\u001b[0m\u001b[0;34m)\u001b[0m\u001b[0;34m:\u001b[0m\u001b[0;34m\u001b[0m\u001b[0;34m\u001b[0m\u001b[0m\n\u001b[1;32m    708\u001b[0m             \u001b[0mres\u001b[0m \u001b[0;34m+=\u001b[0m \u001b[0mcurRes\u001b[0m\u001b[0;34m\u001b[0m\u001b[0;34m\u001b[0m\u001b[0m\n",
      "\u001b[0;32m~/codes/iaea/csaransh/csaransh-master/csaransh-pp/csaranshpp.py\u001b[0m in \u001b[0;36mprocessXyzFilesInDirGivenMetaFile\u001b[0;34m(metaFilePath, xyzDir, config, idStartIndex, onlyProcessTop, prefix, suffix, excludePrefix, excludeSuffix)\u001b[0m\n\u001b[1;32m    594\u001b[0m         \u001b[0minfo\u001b[0m\u001b[0;34m,\u001b[0m \u001b[0mextraInfo\u001b[0m \u001b[0;34m=\u001b[0m \u001b[0mgetInfoFromMeta\u001b[0m\u001b[0;34m(\u001b[0m\u001b[0mmetaInfo\u001b[0m\u001b[0;34m,\u001b[0m \u001b[0mmetaFilePath\u001b[0m\u001b[0;34m,\u001b[0m \u001b[0mxyzFile\u001b[0m\u001b[0;34m)\u001b[0m\u001b[0;34m\u001b[0m\u001b[0;34m\u001b[0m\u001b[0m\n\u001b[1;32m    595\u001b[0m         \u001b[0mextraInfo\u001b[0m\u001b[0;34m[\u001b[0m\u001b[0;34m'id'\u001b[0m\u001b[0;34m]\u001b[0m \u001b[0;34m+=\u001b[0m \u001b[0;34m\"-\"\u001b[0m \u001b[0;34m+\u001b[0m \u001b[0mstr\u001b[0m\u001b[0;34m(\u001b[0m\u001b[0midStartIndex\u001b[0m \u001b[0;34m+\u001b[0m \u001b[0mi\u001b[0m \u001b[0;34m+\u001b[0m \u001b[0;36m1\u001b[0m\u001b[0;34m)\u001b[0m\u001b[0;34m\u001b[0m\u001b[0;34m\u001b[0m\u001b[0m\n\u001b[0;32m--> 596\u001b[0;31m         \u001b[0misSuccess\u001b[0m\u001b[0;34m,\u001b[0m \u001b[0mcurRes\u001b[0m \u001b[0;34m=\u001b[0m \u001b[0mprocessXyzFileGivenInfo\u001b[0m\u001b[0;34m(\u001b[0m\u001b[0minfo\u001b[0m\u001b[0;34m,\u001b[0m \u001b[0mextraInfo\u001b[0m\u001b[0;34m,\u001b[0m \u001b[0mconfig\u001b[0m\u001b[0;34m)\u001b[0m\u001b[0;34m\u001b[0m\u001b[0;34m\u001b[0m\u001b[0m\n\u001b[0m\u001b[1;32m    597\u001b[0m         \u001b[0;32mif\u001b[0m \u001b[0;34m(\u001b[0m\u001b[0misSuccess\u001b[0m\u001b[0;34m)\u001b[0m\u001b[0;34m:\u001b[0m\u001b[0;34m\u001b[0m\u001b[0;34m\u001b[0m\u001b[0m\n\u001b[1;32m    598\u001b[0m             \u001b[0mres\u001b[0m\u001b[0;34m.\u001b[0m\u001b[0mappend\u001b[0m\u001b[0;34m(\u001b[0m\u001b[0mcurRes\u001b[0m\u001b[0;34m)\u001b[0m\u001b[0;34m\u001b[0m\u001b[0;34m\u001b[0m\u001b[0m\n",
      "\u001b[0;32m~/codes/iaea/csaransh/csaransh-master/csaransh-pp/csaranshpp.py\u001b[0m in \u001b[0;36mprocessXyzFileGivenInfo\u001b[0;34m(info, extraInfo, config)\u001b[0m\n\u001b[1;32m    354\u001b[0m     \u001b[0;32mif\u001b[0m \u001b[0;32mnot\u001b[0m \u001b[0m_validateConfig\u001b[0m\u001b[0;34m(\u001b[0m\u001b[0mconfig\u001b[0m\u001b[0;34m)\u001b[0m \u001b[0;32mor\u001b[0m \u001b[0;32mnot\u001b[0m \u001b[0m_validateInfo\u001b[0m\u001b[0;34m(\u001b[0m\u001b[0minfo\u001b[0m\u001b[0;34m,\u001b[0m \u001b[0mextraInfo\u001b[0m\u001b[0;34m)\u001b[0m\u001b[0;34m:\u001b[0m\u001b[0;34m\u001b[0m\u001b[0;34m\u001b[0m\u001b[0m\n\u001b[1;32m    355\u001b[0m         \u001b[0;32mreturn\u001b[0m \u001b[0;32mFalse\u001b[0m\u001b[0;34m,\u001b[0m \u001b[0;34m\"\"\u001b[0m\u001b[0;34m\u001b[0m\u001b[0;34m\u001b[0m\u001b[0m\n\u001b[0;32m--> 356\u001b[0;31m     \u001b[0mlib\u001b[0m \u001b[0;34m=\u001b[0m \u001b[0mcdll\u001b[0m\u001b[0;34m.\u001b[0m\u001b[0mLoadLibrary\u001b[0m\u001b[0;34m(\u001b[0m\u001b[0mconfig\u001b[0m\u001b[0;34m[\u001b[0m\u001b[0;34m\"csaranshLib\"\u001b[0m\u001b[0;34m]\u001b[0m\u001b[0;34m)\u001b[0m\u001b[0;34m\u001b[0m\u001b[0;34m\u001b[0m\u001b[0m\n\u001b[0m\u001b[1;32m    357\u001b[0m     \u001b[0mlib\u001b[0m\u001b[0;34m.\u001b[0m\u001b[0mpyProcessFile\u001b[0m\u001b[0;34m.\u001b[0m\u001b[0mrestype\u001b[0m \u001b[0;34m=\u001b[0m \u001b[0mc_void_p\u001b[0m\u001b[0;34m\u001b[0m\u001b[0;34m\u001b[0m\u001b[0m\n\u001b[1;32m    358\u001b[0m     res = lib.pyProcessFile(_cookInfoForCpp(info, _InputInfoCpp()), _cookInfoForCpp(\n",
      "\u001b[0;32m~/miniconda3/envs/csaransh-try/lib/python3.7/ctypes/__init__.py\u001b[0m in \u001b[0;36mLoadLibrary\u001b[0;34m(self, name)\u001b[0m\n\u001b[1;32m    432\u001b[0m \u001b[0;34m\u001b[0m\u001b[0m\n\u001b[1;32m    433\u001b[0m     \u001b[0;32mdef\u001b[0m \u001b[0mLoadLibrary\u001b[0m\u001b[0;34m(\u001b[0m\u001b[0mself\u001b[0m\u001b[0;34m,\u001b[0m \u001b[0mname\u001b[0m\u001b[0;34m)\u001b[0m\u001b[0;34m:\u001b[0m\u001b[0;34m\u001b[0m\u001b[0;34m\u001b[0m\u001b[0m\n\u001b[0;32m--> 434\u001b[0;31m         \u001b[0;32mreturn\u001b[0m \u001b[0mself\u001b[0m\u001b[0;34m.\u001b[0m\u001b[0m_dlltype\u001b[0m\u001b[0;34m(\u001b[0m\u001b[0mname\u001b[0m\u001b[0;34m)\u001b[0m\u001b[0;34m\u001b[0m\u001b[0;34m\u001b[0m\u001b[0m\n\u001b[0m\u001b[1;32m    435\u001b[0m \u001b[0;34m\u001b[0m\u001b[0m\n\u001b[1;32m    436\u001b[0m \u001b[0mcdll\u001b[0m \u001b[0;34m=\u001b[0m \u001b[0mLibraryLoader\u001b[0m\u001b[0;34m(\u001b[0m\u001b[0mCDLL\u001b[0m\u001b[0;34m)\u001b[0m\u001b[0;34m\u001b[0m\u001b[0;34m\u001b[0m\u001b[0m\n",
      "\u001b[0;32m~/miniconda3/envs/csaransh-try/lib/python3.7/ctypes/__init__.py\u001b[0m in \u001b[0;36m__init__\u001b[0;34m(self, name, mode, handle, use_errno, use_last_error)\u001b[0m\n\u001b[1;32m    354\u001b[0m \u001b[0;34m\u001b[0m\u001b[0m\n\u001b[1;32m    355\u001b[0m         \u001b[0;32mif\u001b[0m \u001b[0mhandle\u001b[0m \u001b[0;32mis\u001b[0m \u001b[0;32mNone\u001b[0m\u001b[0;34m:\u001b[0m\u001b[0;34m\u001b[0m\u001b[0;34m\u001b[0m\u001b[0m\n\u001b[0;32m--> 356\u001b[0;31m             \u001b[0mself\u001b[0m\u001b[0;34m.\u001b[0m\u001b[0m_handle\u001b[0m \u001b[0;34m=\u001b[0m \u001b[0m_dlopen\u001b[0m\u001b[0;34m(\u001b[0m\u001b[0mself\u001b[0m\u001b[0;34m.\u001b[0m\u001b[0m_name\u001b[0m\u001b[0;34m,\u001b[0m \u001b[0mmode\u001b[0m\u001b[0;34m)\u001b[0m\u001b[0;34m\u001b[0m\u001b[0;34m\u001b[0m\u001b[0m\n\u001b[0m\u001b[1;32m    357\u001b[0m         \u001b[0;32melse\u001b[0m\u001b[0;34m:\u001b[0m\u001b[0;34m\u001b[0m\u001b[0;34m\u001b[0m\u001b[0m\n\u001b[1;32m    358\u001b[0m             \u001b[0mself\u001b[0m\u001b[0;34m.\u001b[0m\u001b[0m_handle\u001b[0m \u001b[0;34m=\u001b[0m \u001b[0mhandle\u001b[0m\u001b[0;34m\u001b[0m\u001b[0;34m\u001b[0m\u001b[0m\n",
      "\u001b[0;31mOSError\u001b[0m: ../_build/libcsaransh-pp_shared.so: cannot open shared object file: No such file or directory"
     ]
    }
   ],
   "source": [
    "from csaranshpp import queryCdbToProcess\n",
    "dataDir = os.path.join(pathToCsaranshPP, \"data\", \"cascadesdb-dl\") # dir to download data from cascadesdb\n",
    "config = getDefaultConfig() # check bottom cell for various keys / options to configure\n",
    "config['logFilePath'] = os.path.join(dataDir, \"log-cdb-test.txt\")\n",
    "config['outputJSONFilePath'] = os.path.join(dataDir, \"cdb-test.json\")\n",
    "config['csaranshLib'] = os.path.join(buildDir, \"libcsaransh-pp_shared.so\") # path to csaransh library\n",
    "# energy in keV and temperature in Kelvin, other options like author etc. can be selected check last cell for more details\n",
    "isSuccess, cascades = queryCdbToProcess(dataDir, config, material=\"W\", energyRange=[2, 2], tempRange=[\"\", 1500])\n",
    "writeResultsToJSON(cascades, config) # writes the json file config['outputJSONFilePath']. Can be loaded again with json.load()"
   ]
  },
  {
   "cell_type": "code",
   "execution_count": null,
   "metadata": {},
   "outputs": [],
   "source": [
    "# plotting number of defects for each temperature\n",
    "%matplotlib inline\n",
    "sns.swarmplot(x=\"temperature\", y=\"n_defects\", data=DataFrame.from_dict(cascades))\n",
    "# each cascade has various properties, for description check documentation at bottom; to list all run: cascade[0].keys()"
   ]
  },
  {
   "cell_type": "code",
   "execution_count": null,
   "metadata": {},
   "outputs": [],
   "source": [
    "from csaranshpp_ml import analyseAndSaveJs\n",
    "\n",
    "# adds various other properties to each cascade &\n",
    "# saves a js file that can be visualized in csaransh web-app as we are doing next\n",
    "cascades, classes = analyseAndSaveJs(cascades, config, \"cdb-Fe.js\")\n",
    "# plotting cascade volume that was added by csaranshpp_ml\n",
    "sns.swarmplot(x=\"temperature\", y=\"hull_vol\", data=DataFrame.from_dict(cascades))"
   ]
  },
  {
   "cell_type": "code",
   "execution_count": null,
   "metadata": {},
   "outputs": [],
   "source": [
    "!cp cdb-Fe.js apps/CSaransh_files/cascades-data.js\n",
    "from IPython.display import IFrame\n",
    "IFrame(src='apps/index.html', width=960, height=800)\n",
    "# For better rendering load with hosted server:\n",
    "# run python -m http.server 8080 in a terminal opened in examples directory\n",
    "# uncomment the below line and comment the previous IFrame line\n",
    "#IFrame(src='http://localhost:8080/apps/index.html', width=960, height=800)"
   ]
  },
  {
   "cell_type": "code",
   "execution_count": null,
   "metadata": {},
   "outputs": [],
   "source": [
    "# %load ../data/cascadesdb-dl/log-cdb-test.txt\n"
   ]
  },
  {
   "cell_type": "code",
   "execution_count": null,
   "metadata": {},
   "outputs": [],
   "source": [
    "# demonstrating another way to process the same cascades, gives you slightly more control at the expense of loc\n",
    "from csaranshpp import processMetaFileNumbers, queryCdbForMetaFileNumbers\n",
    "metaFileNumbers = queryCdbForMetaFileNumbers(material=\"W\", energyRange=[2, 2], tempRange=[\"\", 1500])\n",
    "print(metaFileNumbers) # you can select or remove metafiles, add directly in a list after checking cascadesdb\n",
    "isSuccess, cascades = processMetaFileNumbers(metaFileNumbers, dataDir, config)\n",
    "writeResultsToJSON(cascades, config) # writes the json file that can be loaded again with json.load()"
   ]
  },
  {
   "cell_type": "code",
   "execution_count": null,
   "metadata": {},
   "outputs": [],
   "source": [
    "# demonstrating another way to process the same cascades, gives you even more control at the expense of loc\n",
    "from csaranshpp import processXyzFilesInDirGivenMetaFile, queryCdbTodownloadMetaFilesXmlAndXyz\n",
    "\n",
    "metaFilePaths, xyzDirPaths = queryCdbTodownloadMetaFilesXmlAndXyz(dataDir, material=\"W\", energyRange=[2, 2], tempRange=[\"\", 1500])\n",
    "cascades = []\n",
    "for metaFile, xyzDir in zip(metaFilePaths, xyzDirPaths):\n",
    "    print(\"processing cascades for: \", metaFile, \" present in dir: \", xyzDir)\n",
    "    isSuccess, cascade = processXyzFilesInDirGivenMetaFile(metaFile, xyzDir, config)\n",
    "    cascades.append(cascade)\n",
    "writeResultsToJSON(cascades, config)"
   ]
  },
  {
   "cell_type": "markdown",
   "metadata": {},
   "source": [
    "optional arguments for querying cascadesdb:\n",
    "-----------------------------------\n",
    "\n",
    "applicable to following functions: \n",
    "\n",
    "- queryCdbToProcess \n",
    "- queryCdbForMetaFileNumbers\n",
    "- queryCdbTodownloadMetaFilesXmlAndXyz\n",
    "- queryCdbTodownloadMetaFilesXml\n",
    "\n",
    "    - *author* (optional): author name to look for in the cascadesDB, comparison is not exact, similar strings are matched (default: \"\")\n",
    "    - *doi* (optional): doi to look for in the cascadesDB (default: \"\")\n",
    "    - *material* (optional): material to look for in the cascadesDB e.g. Fe, W (default: \"\")\n",
    "    - *tempRange* (optional): a list with two values of temperature in Kelvin for more than equal to and less than equal for filtering the data , e.g. [300, 500] will match all the cascades with 300K to 500K, [300, 300] will only match 300K, [\"\", 500] will match less than 500K (default: [\"\", \"\"])\n",
    "    - *energyRange* (optional): a list with two values of energy of PKA in keV for more than equal to and less than equal for filtering the data , e.g. [1, 5] will match all the cascades with 1keV to 5keV, [1, 1] will only match 1keV, [\"\", 5] will match less than 5keV (default: [\"\", \"\"])\n",
    "    - *archiveName* (optional): archive name to look for in the cascadesDB, comparison is not exact, similar strings are matched (default: \"\")\n",
    "\n",
    " \n",
    "optional arguments  for file selection in a dir:\n",
    " --------------------------------------------------\n",
    " \n",
    " aplicable to following functions:\n",
    " \n",
    " - queryCdbToProcess\n",
    " - processMetaFileNumbers\n",
    " - processXyzFilesInDirGivenMetaFile\n",
    " \n",
    "    - *prefix* (optional): a list of prefixes for xyz files in the archive, only files that start with one of the prefixes will be included in processing. (default: [])\n",
    "    - *suffix* (optional): a list of suffixes for xyz files in the archive, only files that end with one of the suffixes will be included in processing. (default: [\"xyz\"])\n",
    "    - *excludePrefix* (optional): a list of prefixes for non xyz files in the archive, files that start with one of these prefixes will NOT be included in processing. (default: [\"init\", \".\"])\n",
    "    - *excludeSuffix* (optional): a list of suffixes for non xyz files in the archive, files that end with one of the suffixes will NOT be included in processing. (default: [\"\"])\n",
    "    - *idStartIndex* (optional): if appending to list that already has cascades then set as cascades in the list, this is to ensure id is unique for each cascade in a list, important only if you view cascades in csaransh web-app(default: 0)    \n",
    "    - *onlyProcessTop* (optional): return if number of processed cascades are equal to or more than this value (default: 0 (i.e. process all))    \n",
    " \n",
    " \n",
    " all options for config:\n",
    " --------------------------------\n",
    " \n",
    " returned with getDefaultConfig()\n",
    "  - \"csaranshLib\" : path to csaransh c++ library most probably compiled with cmake\n",
    "  - \"onlyDefects\" : Switch - Compute only the defect coordinates (default: False)\n",
    "  - \"isFindDistribAroundPKA\": Switch - compute distribution around pka if pka coordinates are given (default: True)\n",
    "  - \"isFindClusterFeatures\": Switch - find cluster features that can be used for pattern matching and classification of clusters later (default: True)\n",
    "  - \"filterZeroSizeClusters\": Switch - Ignore clusters that have zero surviving defects. The defects in these clusters are all added by threshold based algorithm (default: False)\n",
    "  - \"isIgnoreBoundaryDefects\": Switch - Ignore defects appearing in the unit cells at the boundary. Useful since defects appear at boundary due to PBC if origin / offset is not given properly in MD simulations, one condition where it can be set to False is if offset / origin is 0.25 in bcc (default: True)\n",
    "  - \"isAddThresholdInterstitials\": Switch - Add threshold based interstitials over the one found using W-S like algorithm (default: True)\n",
    "  - \"safeRunChecks\": Check and ignore files with anomalous number or proportion of defects (default: True)\n",
    "  - \"thresholdFactor\": threshold factor for threshold based interstitials (threshol value will be factor * latticeConstant), applicable only if threshold based interstitials are allowed. (default: 0.345)\n",
    "  - \"extraDefectsSafetyFactor\": safety factor for checks, lower value implies stricter checks to ignore files. Only matters if safety checks are not disabled altogether. (default: 50.0),\n",
    "  - \"logFilePath\": (default log-csaransh-pp-cpp.txt)\n",
    "  - \"outputJSONFilePath\": only needed if saving json file, (default cascades-data-py.json)\n",
    "  - \"logMode\": (default: warning and error (2 + 4 = 6)) can be set by input parameters to getDefaultConfig function. Its paramters can be any combination of the following strings: \n",
    "    \"none\", \"info\", \"warning\", \"error\", \"debug\", \"all\"\n",
    "    enabling the logging for those messages.\n",
    "    example call: getDefaultConfig(\"info\", \"warning\", \"error\")"
   ]
  },
  {
   "cell_type": "markdown",
   "metadata": {},
   "source": [
    "All keys of the resulting cascades\n",
    "------------------------------------------------\n",
    "\n",
    "- Input\n",
    "    - xyzFilePath\n",
    "    - id : possibly unique number for each cascade in the json list.\n",
    "    - substrate : Material Formula e.g. W, Fe etc.\n",
    "    - energy : energy of PKA for the cascade\n",
    "    - simulationTime\n",
    "    - ncell : number of cells in the simulation box\n",
    "    - boxSize : simulation box size\n",
    "    - origin : offset or origin given in MD simulation\n",
    "    - rectheta : angle for PKA\n",
    "    - recphi : angle for PKA\n",
    "    - xrec : position for PKA\n",
    "    - yrec : position for PKA\n",
    "    - zrec : position for PKA\n",
    "    - latticeConst\n",
    "    - temperature\n",
    "    - infile : input or meta file\n",
    "    - tags : any text that can be given in input for use with filtering or grouping and comparison in statistics\n",
    "    - potentialUsed\n",
    "    - isPkaGiven : is position of pka was given as input while processing\n",
    "    - originType : 0 (given), 1 (estimated) ,  2 (both were tried)\n",
    "    - simulationCode: Lammps, Parcas, Lammps-disp, cascadesdblikecols\n",
    "\n",
    "- output scalar values added by csaranshpp:\n",
    "    - error : error message while processing if any\n",
    "    - n_defects : number of defects found\n",
    "    - n_clusters : number of clusters found\n",
    "    - max_cluster_size_I : maximum size of the interstitial cluster \n",
    "    - max_cluster_size_V : maximum size of the vacancy cluster \n",
    "    - max_cluster_size : maximum size of a cluster \n",
    "    - in_cluster_I : proportion of interstitials in the clusters\n",
    "    - in_cluster_V : proportion of vacancies in the clusters\n",
    "    - in_cluster : proportion of defects in the clusters\n",
    "    \n",
    "- output lists added by csaranshpp:\n",
    "    - coords : list of coordinates, each item is [x, y, z, isIntersitial, clusterId, isSurviving], clusterId is zero if defect is single e.g. [3.5, 2.45, -1.4, 0, 2, 1] is a surviving vacancy in cluster 2. \n",
    "    - clusters : dictionary of cluster ids each having list of indices that correspond to defect coordinates that belong to that cluster id. e.g. {'2': [11, 2, 34], '206': [9, 1, 7, 124]}, there are two clusters with ids '2' and '206' having 3 and 4 defects respectively. The coordinates for defects in cluster-id '2' can be found in coords[11], coords[2], coords[34].\n",
    "    - clusterSizes : surviving number of defects for each cluster-id. negative values imply the vacancy cluster. e.g. {'2': -3, '206': 2} implies that there are two clusters(ids: '2','206'). '2' has three surviving vacancies while '206' has two surviving interstitials.\n",
    "    - features : The distance and angle histogram features for each cluster-id representing its shape. Check the research article on classification of defect clusters for algorithm (https://doi.org/10.1016/j.commatsci.2019.109364).\n",
    "    - dumbbellPairs : The interstitial-vacancy pair for interstitials e.g. [[4, 12], [6, 19], [9, 11]], there are three interstitial-vacancy pairs. The position of first pair is coords[4] as interstitial and coords[12] as corresponding vacancy. The other interstitial for the first dumbbell would be coords[5].\n",
    "    - distancesI : distance distribution of interstitials from PKA if pka position was given as input. \n",
    "    - distancesV : distance distribution of vacancies from PKA if pka position was given as input. \n",
    "    - anglesI : angle distribution of interstitials from PKA if pka position was given as input. \n",
    "    - anglesV : angle distribution of vacancies from PKA if pka position was given as input.\n",
    "    \n",
    "- added by csaranshpp-ml:\n",
    "    - eigen_coords : coordinates of defects in principle components (PCA). Ideal for plotting the cascade in 2D.\n",
    "    - eigen_pka : 3D coordinates of pka in principle components (PCA) found for coords.\n",
    "    - eigen_var : variance explained by first, second and third principle component e.g. [0.5, 0.3, 0.2]. A high value in first implies the cascade is spread in one direction way more than others, while a high value in first + second would imply it is a planar cascade. A value of 0.95 or above in first index can mean highly linear cascade while higher than 0.95 in first two would mean planar.\n",
    "    - eigen_features : \n",
    "    - dclust_coords : density clusters found using dbscan, the density clusters are bigger islands of densities surrounded by very sparse regions. The number of dense regions of vacancies has a good correlation with number of subcascades.\n",
    "    - dclustI_count : number of interstitial density cluster islands.\n",
    "    - dclust_sec_impact : The proportion of defects in the second biggest density cluster of vacancies. This correspond to the impact of secondary sub-cascade.\n",
    "    - hull_vol : cascade hull volume.\n",
    "    - hull_area : cascade hull area.\n",
    "    - hull_density : cascade hull density.\n",
    "    - hull_vertices : cascade hull vertices.\n",
    "    - hull_simplices : cascade hull simplices.\n",
    "    - hull_nvertices : cascade hull number of vertices.\n",
    "    - hull_nsimplices : cascade hull number of simplices.\n",
    "    - clust_cmp : clusters with similar shape for each cluster id, based on histogram features of 'angle', 'dist' and 'both'.\n",
    "    - clust_cmp_size : clusters with similar shape and size for each cluster id, based on histogram features of 'angle', 'dist' and 'both'.\n",
    "    - clusterClasses : cluster shape class for each cluster id. To know the typical shape for each cluster check the research article on classification of defect clusters (https://doi.org/10.1016/j.commatsci.2019.109364) ."
   ]
  }
 ],
 "metadata": {
  "kernelspec": {
   "display_name": "Python 3",
   "language": "python",
   "name": "python3"
  },
  "language_info": {
   "codemirror_mode": {
    "name": "ipython",
    "version": 3
   },
   "file_extension": ".py",
   "mimetype": "text/x-python",
   "name": "python",
   "nbconvert_exporter": "python",
   "pygments_lexer": "ipython3",
   "version": "3.7.3"
  }
 },
 "nbformat": 4,
 "nbformat_minor": 2
}
